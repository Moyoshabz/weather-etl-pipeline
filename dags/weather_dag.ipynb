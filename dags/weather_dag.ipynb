{
 "cells": [
  {
   "cell_type": "code",
   "execution_count": null,
   "id": "c41f8205-f718-4d5b-9e8f-de67e7b2f56f",
   "metadata": {},
   "outputs": [],
   "source": [
    "from airflow import DAG\n",
    "from airflow.operators.python import PythonOperator\n",
    "from datetime import datetime, timedelta\n",
    "import sys, os\n",
    "\n",
    "# Add scripts folder to path\n",
    "sys.path.append(os.path.abspath(os.path.join(os.path.dirname(__file__), \"../scripts\")))\n",
    "from weather_etl import fetch_weather_data, transform_data, load_data, get_cities\n",
    "\n",
    "# Default DAG arguments\n",
    "default_args = {\n",
    "    \"owner\": \"moyo\",\n",
    "    \"depends_on_past\": False,\n",
    "    \"email\": [\"your_email@example.com\"],\n",
    "    \"email_on_failure\": False,\n",
    "    \"email_on_retry\": False,\n",
    "    \"retries\": 1,\n",
    "    \"retry_delay\": timedelta(minutes=5),\n",
    "}\n",
    "\n",
    "# Define DAG\n",
    "with DAG(\n",
    "    \"weather_etl_dag\",\n",
    "    default_args=default_args,\n",
    "    description=\"Weather ETL Pipeline DAG\",\n",
    "    schedule_interval=\"@daily\",   # Run once per day\n",
    "    start_date=datetime(2025, 9, 18),\n",
    "    catchup=False,\n",
    "    tags=[\"etl\", \"weather\"],\n",
    ") as dag:\n",
    "\n",
    "    def extract_task(**kwargs):\n",
    "        cities = get_cities()\n",
    "        raw_data = fetch_weather_data(cities)\n",
    "        kwargs[\"ti\"].xcom_push(key=\"raw_data\", value=raw_data)\n",
    "\n",
    "    def transform_task(**kwargs):\n",
    "        raw_data = kwargs[\"ti\"].xcom_pull(key=\"raw_data\", task_ids=\"extract\")\n",
    "        df = transform_data(raw_data)\n",
    "        kwargs[\"ti\"].xcom_push(key=\"transformed_data\", value=df.to_dict())\n",
    "\n",
    "    def load_task(**kwargs):\n",
    "        df_dict = kwargs[\"ti\"].xcom_pull(key=\"transformed_data\", task_ids=\"transform\")\n",
    "        import pandas as pd\n",
    "        df = pd.DataFrame.from_dict(df_dict)\n",
    "        load_data(df)\n",
    "\n",
    "    # Airflow tasks\n",
    "    extract = PythonOperator(task_id=\"extract\", python_callable=extract_task, provide_context=True)\n",
    "    transform = PythonOperator(task_id=\"transform\", python_callable=transform_task, provide_context=True)\n",
    "    load = PythonOperator(task_id=\"load\", python_callable=load_task, provide_context=True)\n",
    "\n",
    "    # Task dependencies (flow)\n",
    "    extract >> transform >> load"
   ]
  }
 ],
 "metadata": {
  "kernelspec": {
   "display_name": "Python [conda env:base] *",
   "language": "python",
   "name": "conda-base-py"
  },
  "language_info": {
   "codemirror_mode": {
    "name": "ipython",
    "version": 3
   },
   "file_extension": ".py",
   "mimetype": "text/x-python",
   "name": "python",
   "nbconvert_exporter": "python",
   "pygments_lexer": "ipython3",
   "version": "3.13.5"
  }
 },
 "nbformat": 4,
 "nbformat_minor": 5
}
