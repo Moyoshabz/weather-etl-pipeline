{
 "cells": [
  {
   "cell_type": "code",
   "execution_count": 7,
   "id": "d3dd4593-ac45-467a-9aaa-f13694c5c377",
   "metadata": {},
   "outputs": [],
   "source": [
    "#Import needed libraries\n",
    "import requests\n",
    "import pandas as pd\n",
    "from datetime import datetime, timezone\n",
    "import os"
   ]
  },
  {
   "cell_type": "code",
   "execution_count": 8,
   "id": "285bc422-5ac6-4d93-b6d8-f19bc752f287",
   "metadata": {},
   "outputs": [],
   "source": [
    "#begin the extract from source: open weather\n",
    "API_KEY = \"f1591bb9e37234ecebecc1fcc728649b\"\n",
    "BASE_URL = \"http://api.openweathermap.org/data/2.5/weather\"\n",
    "\n",
    "def get_cities():\n",
    "    return [\n",
    "        \"New York\", \"Boston\", \"Philadelphia\", \"Miami\", \"Atlanta\", \n",
    "        \"Baltimore\", \"Tampa\", \"Orlando\", \"Charlotte\", \"Jacksonville\"\n",
    "    ]\n",
    "\n",
    "def fetch_weather_data(cities):\n",
    "    records = []\n",
    "    \n",
    "    for city in cities:\n",
    "        url = f\"{BASE_URL}?q={city}&appid={API_KEY}&units=metric\"\n",
    "        response = requests.get(url)\n",
    "        \n",
    "        if response.status_code == 200:\n",
    "            data = response.json()\n",
    "            records.append({\n",
    "                \"city\": data[\"name\"],\n",
    "                \"temp\": data[\"main\"][\"temp\"],\n",
    "                \"humidity\": data[\"main\"][\"humidity\"],\n",
    "                \"description\": data[\"weather\"][0][\"description\"],\n",
    "                \"timestamp\": datetime.fromtimestamp(data[\"dt\"], timezone.utc)\n",
    "            })\n",
    "            print(f\"Success {city}\")\n",
    "        else:\n",
    "            print(f\"Fail {city}: Failed\")\n",
    "    \n",
    "    return records"
   ]
  },
  {
   "cell_type": "code",
   "execution_count": 9,
   "id": "1b0aa280-499c-4e79-aeef-3bad6c075889",
   "metadata": {},
   "outputs": [],
   "source": [
    "# Transforming the dataset\n",
    "def transform_data(raw_records):\n",
    "    df = pd.DataFrame(raw_records)\n",
    "    \n",
    "#Adding more fields\n",
    "    df['temp_fahrenheit'] = (df['temp'] * 9/5) + 32\n",
    "    df['temp_category'] = df['temp'].apply(lambda x: \n",
    "        'Hot' if x > 25 else 'Warm' if x > 15 else 'Cool')\n",
    "    df['humidity_level'] = df['humidity'].apply(lambda x: \n",
    "        'High' if x > 70 else 'Medium' if x > 40 else 'Low')\n",
    "    \n",
    "    return df"
   ]
  },
  {
   "cell_type": "code",
   "execution_count": 10,
   "id": "6d9f4837-daaa-42d6-85d0-b31f1b826394",
   "metadata": {},
   "outputs": [],
   "source": [
    "#Loading to save a s CSV\n",
    "def load_data(df):\n",
    "    os.makedirs(\"data\", exist_ok=True)\n",
    "    df.to_csv(\"data/weather_data.csv\", index=False)\n",
    "    print(f\"Data saved: {len(df)} cities\")\n",
    "    return \"data/weather_data.csv\""
   ]
  },
  {
   "cell_type": "code",
   "execution_count": 11,
   "id": "a170db03-9d56-4371-88c7-91205dcf2f19",
   "metadata": {},
   "outputs": [
    {
     "name": "stdout",
     "output_type": "stream",
     "text": [
      "=== The Weather ETL Pipeline Project ===\n",
      "Success New York\n",
      "Success Boston\n",
      "Success Philadelphia\n",
      "Success Miami\n",
      "Success Atlanta\n",
      "Success Baltimore\n",
      "Success Tampa\n",
      "Success Orlando\n",
      "Success Charlotte\n",
      "Success Jacksonville\n",
      "Data saved: 10 cities\n",
      " ETL Complete!\n",
      "\n",
      "Sample data:\n",
      "           city   temp temp_category humidity_level\n",
      "0      New York  28.15           Hot         Medium\n",
      "1        Boston  23.56          Warm           High\n",
      "2  Philadelphia  27.56           Hot         Medium\n",
      "3         Miami  29.16           Hot           High\n",
      "4       Atlanta  29.80           Hot         Medium\n"
     ]
    }
   ],
   "source": [
    "#Running the ETL\n",
    "def run_etl():\n",
    "    print(\"=== The Weather ETL Pipeline Project ===\")\n",
    "    \n",
    "    # Extract\n",
    "    cities = get_cities()\n",
    "    raw_data = fetch_weather_data(cities)\n",
    "    \n",
    "    # Transform  \n",
    "    df = transform_data(raw_data)\n",
    "    \n",
    "    # Load\n",
    "    filepath = load_data(df)\n",
    "    \n",
    "    print(\" ETL Process Completed\")\n",
    "    return df\n",
    "\n",
    "if __name__ == \"__main__\":\n",
    "    df = run_etl()\n",
    "    print(\"\\nSample of the data:\")\n",
    "    print(df[['city', 'temp', 'temp_category', 'humidity_level']].head())"
   ]
  },
  {
   "cell_type": "code",
   "execution_count": null,
   "id": "269467af-b747-42ef-b214-33446bbda921",
   "metadata": {},
   "outputs": [],
   "source": []
  }
 ],
 "metadata": {
  "kernelspec": {
   "display_name": "Python [conda env:base] *",
   "language": "python",
   "name": "conda-base-py"
  },
  "language_info": {
   "codemirror_mode": {
    "name": "ipython",
    "version": 3
   },
   "file_extension": ".py",
   "mimetype": "text/x-python",
   "name": "python",
   "nbconvert_exporter": "python",
   "pygments_lexer": "ipython3",
   "version": "3.13.5"
  }
 },
 "nbformat": 4,
 "nbformat_minor": 5
}
